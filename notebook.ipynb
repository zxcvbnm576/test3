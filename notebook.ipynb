import csv

# Создаем словарь для хранения общего дохода по каждому продукту
total_income = {}

# Открываем CSV файл в режиме чтения
with open('data.csv', 'r') as file:
    reader = csv.DictReader(file)
    
    # Проходим по каждой строке в файле
    for row in reader:
        product_id = int(row['product_id'])  # Приводим product_id к целому числу
        quantity = int(row['quantity'])        # Приводим quantity к целому числу
        price = float(row['price'])            # Приводим price к числу с плавающей запятой
        
        # Рассчитываем доход для текущей строки
        income = quantity * price
        
        # Обновляем общий доход для данного продукта
        if product_id in total_income:
            total_income[product_id] += income
        else:
            total_income[product_id] = income

# Выводим общий доход по каждому продукту
for product_id, income in total_income.items():
    print(f'Общий доход от продукта {product_id}: {income:.2f}')
